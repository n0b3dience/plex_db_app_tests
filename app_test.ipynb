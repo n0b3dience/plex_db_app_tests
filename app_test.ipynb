{
 "cells": [
  {
   "cell_type": "code",
   "execution_count": 14,
   "id": "13e8ef0c-49cd-4680-89cc-42b7ed1d8e2d",
   "metadata": {
    "tags": []
   },
   "outputs": [],
   "source": [
    "from app import db\n",
    "from app.models import User, Post, Comment, PostComment, ParentChild"
   ]
  },
  {
   "cell_type": "code",
   "execution_count": 15,
   "id": "dfbbf0cf-7347-4fcb-ae0f-2f5ad7a6100d",
   "metadata": {},
   "outputs": [],
   "source": [
    "def get_path(comment_id, path=None):\n",
    "    ''' Gets the comment tree path '''\n",
    "    comment = Comment.query.filter_by(id=comment_id).first()  # Create comment object\n",
    "    if path is None:  # Create path list on first pass\n",
    "        path = []\n",
    "        \n",
    "    if comment.id not in path:  # Start the path with self ID\n",
    "        path.append(comment.id)\n",
    "        \n",
    "    if comment.parent_id:  # Append parent ID to the path\n",
    "        path.append(comment.parent_id)\n",
    "        return get_path(comment.parent_id, path=path)  # Restart loop with updated path\n",
    "    \n",
    "    else:\n",
    "        path.reverse()\n",
    "        return path"
   ]
  },
  {
   "cell_type": "code",
   "execution_count": 16,
   "id": "079605d0-6911-458b-8107-043ed7bcfb48",
   "metadata": {},
   "outputs": [],
   "source": [
    "def get_comment_tree_list(post_id):\n",
    "    ''' Returns a list of comment tree paths '''\n",
    "    comments = Comment.query.filter_by(post_id=post_id).all()\n",
    "    comment_tree_list = list()\n",
    "    for comment in comments:\n",
    "        comment_path = get_path(comment.id)\n",
    "        comment_tree_list.append(comment_path)\n",
    "    return comment_tree_list"
   ]
  },
  {
   "cell_type": "code",
   "execution_count": 17,
   "id": "0fd65dc7-3502-4dc9-aa14-e2d3c62fcd73",
   "metadata": {},
   "outputs": [],
   "source": [
    "def check_sublist(sublist, full_list):\n",
    "    check = False\n",
    "\n",
    "    for item in full_list:\n",
    "        if set(sublist).issubset(set(item)):\n",
    "            check = True\n",
    "            return check\n",
    "        else:\n",
    "            pass\n",
    "\n",
    "    return check\n",
    "\n",
    "def get_pruned_list(input_tree_list, pruned_list=None):\n",
    "        \"\"\" Removes redundant paths from list of comment tree paths \"\"\"\n",
    "        tree_list = input_tree_list.copy()\n",
    "        if pruned_list == None:\n",
    "            pruned_list = list()\n",
    "        if len(tree_list) > 0:\n",
    "            for tree in tree_list:\n",
    "                tree_list.remove(tree)\n",
    "                if not check_sublist(tree, tree_list):\n",
    "                    pruned_list.append(tree)\n",
    "                    return get_pruned_list(tree_list, pruned_list=pruned_list)\n",
    "                else:\n",
    "                    return get_pruned_list(tree_list, pruned_list=pruned_list)\n",
    "        else:\n",
    "            return pruned_list"
   ]
  },
  {
   "cell_type": "code",
   "execution_count": 18,
   "id": "5c105a2c-bc1a-4551-bec2-ac1feabd7486",
   "metadata": {},
   "outputs": [
    {
     "name": "stdout",
     "output_type": "stream",
     "text": [
      "[[1], [1, 2], [1, 3], [1, 4], [1, 4, 5], [1, 4, 6], [1, 4, 7], [1, 3, 8], [1, 2, 9], [10]]\n"
     ]
    }
   ],
   "source": [
    "ctl = get_comment_tree_list(1)\n",
    "print(ctl)"
   ]
  },
  {
   "cell_type": "code",
   "execution_count": 19,
   "id": "c6604c77-feeb-4c98-871e-09e83447a529",
   "metadata": {},
   "outputs": [
    {
     "name": "stdout",
     "output_type": "stream",
     "text": [
      "[[1, 4, 5], [1, 4, 6], [1, 4, 7], [1, 3, 8], [1, 2, 9], [10]]\n"
     ]
    }
   ],
   "source": [
    "pct = get_pruned_list(ctl)\n",
    "print(pct)"
   ]
  },
  {
   "cell_type": "code",
   "execution_count": null,
   "id": "adcfc985-9ad6-4b5f-a886-9aa57e0bee7f",
   "metadata": {},
   "outputs": [],
   "source": []
  }
 ],
 "metadata": {
  "kernelspec": {
   "display_name": "Python 3 (ipykernel)",
   "language": "python",
   "name": "python3"
  },
  "language_info": {
   "codemirror_mode": {
    "name": "ipython",
    "version": 3
   },
   "file_extension": ".py",
   "mimetype": "text/x-python",
   "name": "python",
   "nbconvert_exporter": "python",
   "pygments_lexer": "ipython3",
   "version": "3.9.7"
  }
 },
 "nbformat": 4,
 "nbformat_minor": 5
}
