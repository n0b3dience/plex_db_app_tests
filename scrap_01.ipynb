{
 "cells": [
  {
   "cell_type": "code",
   "execution_count": 1,
   "id": "96fb257f-83e1-4f97-98ca-cf228f3c42da",
   "metadata": {},
   "outputs": [],
   "source": [
    "paths = [[1, 4, 5], [1, 4, 6], [1, 4, 7], [1, 3, 8], [1, 2, 9], [10]]"
   ]
  },
  {
   "cell_type": "code",
   "execution_count": 2,
   "id": "07e497c3-84e7-4a14-ab67-9b2044403074",
   "metadata": {},
   "outputs": [],
   "source": [
    "map = [\n",
    "        {\n",
    "            'id': 1,\n",
    "            'children': [\n",
    "                {\n",
    "                    'id': 2,\n",
    "                    'children': [\n",
    "                        {\n",
    "                            'id': 9,\n",
    "                            'children': []\n",
    "                        }\n",
    "                    ]\n",
    "                },\n",
    "                {\n",
    "                    'id': 3,\n",
    "                    'children': [\n",
    "                        {\n",
    "                            'id': 8,\n",
    "                            'children': []\n",
    "                        }\n",
    "                    ]\n",
    "                },\n",
    "                {\n",
    "                    'id': 4,\n",
    "                    'children': [\n",
    "                        {\n",
    "                            'id': 5,\n",
    "                            'children': []\n",
    "                        },\n",
    "                        {\n",
    "                            'id': 6,\n",
    "                            'children': []\n",
    "                        },\n",
    "                        {\n",
    "                            'id': 7,\n",
    "                            'children': []\n",
    "                        }\n",
    "                    ]\n",
    "                }\n",
    "            ]\n",
    "        },\n",
    "        {\n",
    "            'id': 10,\n",
    "            'children': []\n",
    "        }\n",
    "    ]"
   ]
  },
  {
   "cell_type": "code",
   "execution_count": 3,
   "id": "b039b40d-7491-4c54-8a55-27f6a69c8b58",
   "metadata": {},
   "outputs": [
    {
     "name": "stdout",
     "output_type": "stream",
     "text": [
      "[{'id': 2, 'children': [{'id': 9, 'children': []}]}, {'id': 3, 'children': [{'id': 8, 'children': []}]}, {'id': 4, 'children': [{'id': 5, 'children': []}, {'id': 6, 'children': []}, {'id': 7, 'children': []}]}]\n",
      "[{'id': 2, 'children': [{'id': 9, 'children': []}]}, {'id': 3, 'children': [{'id': 8, 'children': []}]}, {'id': 4, 'children': [{'id': 5, 'children': []}, {'id': 6, 'children': []}, {'id': 7, 'children': []}]}]\n"
     ]
    }
   ],
   "source": [
    "for k, v in map[0].items():\n",
    "    if map[0]['id'] == 1:\n",
    "        print(map[0]['children'])"
   ]
  },
  {
   "cell_type": "code",
   "execution_count": 5,
   "id": "53a22706-fd85-44cb-a54c-6a98b51926e9",
   "metadata": {},
   "outputs": [
    {
     "name": "stdout",
     "output_type": "stream",
     "text": [
      "LIST: [1, 4, 5]  |  RANGE: 3\n",
      "LIST: [1, 4, 6]  |  RANGE: 3\n",
      "LIST: [1, 4, 7]  |  RANGE: 3\n",
      "LIST: [1, 3, 8]  |  RANGE: 3\n",
      "LIST: [1, 2, 9]  |  RANGE: 3\n",
      "LIST: [10]  |  RANGE: 1\n"
     ]
    }
   ],
   "source": [
    "for i in paths:\n",
    "    print(f'LIST: {i}  |  RANGE: {len(i)}')"
   ]
  },
  {
   "cell_type": "code",
   "execution_count": 10,
   "id": "c7c38e8a-771f-47d6-a739-15a9d179a505",
   "metadata": {},
   "outputs": [
    {
     "name": "stdout",
     "output_type": "stream",
     "text": [
      "5\n",
      "6\n",
      "7\n",
      "8\n",
      "9\n",
      "None\n"
     ]
    }
   ],
   "source": [
    "depth = 2\n",
    "for i in paths:\n",
    "    if depth < len(i):\n",
    "        print(i[depth])\n",
    "    else:\n",
    "        print('None')"
   ]
  },
  {
   "cell_type": "code",
   "execution_count": null,
   "id": "5d441336-2d14-4b3c-9641-ab173230d0a5",
   "metadata": {},
   "outputs": [],
   "source": []
  }
 ],
 "metadata": {
  "kernelspec": {
   "display_name": "Python 3 (ipykernel)",
   "language": "python",
   "name": "python3"
  },
  "language_info": {
   "codemirror_mode": {
    "name": "ipython",
    "version": 3
   },
   "file_extension": ".py",
   "mimetype": "text/x-python",
   "name": "python",
   "nbconvert_exporter": "python",
   "pygments_lexer": "ipython3",
   "version": "3.9.7"
  }
 },
 "nbformat": 4,
 "nbformat_minor": 5
}
