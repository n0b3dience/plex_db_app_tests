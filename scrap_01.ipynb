{
 "cells": [
  {
   "cell_type": "code",
   "execution_count": 1,
   "id": "96fb257f-83e1-4f97-98ca-cf228f3c42da",
   "metadata": {},
   "outputs": [],
   "source": [
    "paths = [[1, 4, 5], [1, 4, 6], [1, 4, 7], [1, 3, 8], [1, 2, 9], [10]]"
   ]
  },
  {
   "cell_type": "code",
   "execution_count": 2,
   "id": "07e497c3-84e7-4a14-ab67-9b2044403074",
   "metadata": {},
   "outputs": [],
   "source": [
    "map = [\n",
    "        {\n",
    "            'id': 1,\n",
    "            'children': [\n",
    "                {\n",
    "                    'id': 2,\n",
    "                    'children': [\n",
    "                        {\n",
    "                            'id': 9,\n",
    "                            'children': []\n",
    "                        }\n",
    "                    ]\n",
    "                },\n",
    "                {\n",
    "                    'id': 3,\n",
    "                    'children': [\n",
    "                        {\n",
    "                            'id': 8,\n",
    "                            'children': []\n",
    "                        }\n",
    "                    ]\n",
    "                },\n",
    "                {\n",
    "                    'id': 4,\n",
    "                    'children': [\n",
    "                        {\n",
    "                            'id': 5,\n",
    "                            'children': []\n",
    "                        },\n",
    "                        {\n",
    "                            'id': 6,\n",
    "                            'children': []\n",
    "                        },\n",
    "                        {\n",
    "                            'id': 7,\n",
    "                            'children': []\n",
    "                        }\n",
    "                    ]\n",
    "                }\n",
    "            ]\n",
    "        },\n",
    "        {\n",
    "            'id': 10,\n",
    "            'children': []\n",
    "        }\n",
    "    ]"
   ]
  },
  {
   "cell_type": "code",
   "execution_count": 3,
   "id": "b039b40d-7491-4c54-8a55-27f6a69c8b58",
   "metadata": {},
   "outputs": [
    {
     "name": "stdout",
     "output_type": "stream",
     "text": [
      "[{'id': 2, 'children': [{'id': 9, 'children': []}]}, {'id': 3, 'children': [{'id': 8, 'children': []}]}, {'id': 4, 'children': [{'id': 5, 'children': []}, {'id': 6, 'children': []}, {'id': 7, 'children': []}]}]\n",
      "[{'id': 2, 'children': [{'id': 9, 'children': []}]}, {'id': 3, 'children': [{'id': 8, 'children': []}]}, {'id': 4, 'children': [{'id': 5, 'children': []}, {'id': 6, 'children': []}, {'id': 7, 'children': []}]}]\n"
     ]
    }
   ],
   "source": [
    "for k, v in map[0].items():\n",
    "    if map[0]['id'] == 1:\n",
    "        print(map[0]['children'])"
   ]
  },
  {
   "cell_type": "code",
   "execution_count": 4,
   "id": "53a22706-fd85-44cb-a54c-6a98b51926e9",
   "metadata": {},
   "outputs": [
    {
     "name": "stdout",
     "output_type": "stream",
     "text": [
      "LIST: [1, 4, 5]  |  RANGE: 3\n",
      "LIST: [1, 4, 6]  |  RANGE: 3\n",
      "LIST: [1, 4, 7]  |  RANGE: 3\n",
      "LIST: [1, 3, 8]  |  RANGE: 3\n",
      "LIST: [1, 2, 9]  |  RANGE: 3\n",
      "LIST: [10]  |  RANGE: 1\n"
     ]
    }
   ],
   "source": [
    "for i in paths:\n",
    "    print(f'LIST: {i}  |  RANGE: {len(i)}')"
   ]
  },
  {
   "cell_type": "code",
   "execution_count": 5,
   "id": "c7c38e8a-771f-47d6-a739-15a9d179a505",
   "metadata": {},
   "outputs": [
    {
     "name": "stdout",
     "output_type": "stream",
     "text": [
      "5\n",
      "6\n",
      "7\n",
      "8\n",
      "9\n",
      "None\n"
     ]
    }
   ],
   "source": [
    "depth = 2\n",
    "for i in paths:\n",
    "    if depth < len(i):\n",
    "        print(i[depth])\n",
    "    else:\n",
    "        print('None')"
   ]
  },
  {
   "cell_type": "code",
   "execution_count": 6,
   "id": "5d441336-2d14-4b3c-9641-ab173230d0a5",
   "metadata": {},
   "outputs": [],
   "source": [
    "def get_comment_trees(id):\n",
    "    # Get all comment trees for a comment\n",
    "    trees = []\n",
    "    for tree in paths:\n",
    "        if id in tree:\n",
    "            trees.append(tree)\n",
    "    if len(trees) > 0:\n",
    "        return trees\n",
    "    else:\n",
    "        return None"
   ]
  },
  {
   "cell_type": "code",
   "execution_count": 7,
   "id": "2cb3c2b1",
   "metadata": {},
   "outputs": [
    {
     "data": {
      "text/plain": [
       "[[1, 4, 5], [1, 4, 6], [1, 4, 7], [1, 3, 8], [1, 2, 9]]"
      ]
     },
     "execution_count": 7,
     "metadata": {},
     "output_type": "execute_result"
    }
   ],
   "source": [
    "get_comment_trees(1)"
   ]
  },
  {
   "cell_type": "code",
   "execution_count": 20,
   "id": "27ddb1ba",
   "metadata": {},
   "outputs": [],
   "source": [
    "def check_node_id(node, id):\n",
    "    \"\"\" Checks if a node has the specified ID \"\"\"\n",
    "    for key, val in node.items():\n",
    "        if val == id:\n",
    "            return True\n",
    "        else:\n",
    "            return False\n",
    "\n",
    "def check_nodes_in_list(id, lst):\n",
    "    \"\"\" Check's if a node already exists in a list \"\"\"\n",
    "    for node_dict in lst:\n",
    "        if check_node_id(node_dict, id):\n",
    "            return True\n",
    "        else:\n",
    "            return False\n",
    "\n",
    "def get_list_index_for_node(id, lst):\n",
    "    for node_dict in lst:\n",
    "        if check_node_id(node_dict, id):\n",
    "            return lst.index(node_dict)\n",
    "        else:\n",
    "            pass"
   ]
  },
  {
   "cell_type": "code",
   "execution_count": 9,
   "id": "c70d321a",
   "metadata": {},
   "outputs": [],
   "source": [
    "test_node = {'id': 11,'children': []}"
   ]
  },
  {
   "cell_type": "code",
   "execution_count": 10,
   "id": "19b20086",
   "metadata": {},
   "outputs": [],
   "source": [
    "def append_list_in_dict(key_name, value, target):\n",
    "    \"\"\"\n",
    "    Appends the list of a specified key, 'key_name', \n",
    "    with 'value' in the 'target' dict\n",
    "    \"\"\"\n",
    "    for key, val in target.items():\n",
    "            if key == key_name:\n",
    "                return val.append(value)\n",
    "    \n",
    "def insert_node(parent_id, node, map):\n",
    "    for node_dict in map:\n",
    "        if check_node_id(node_dict, parent_id):\n",
    "            return append_list_in_dict('children', node, node_dict)"
   ]
  },
  {
   "cell_type": "code",
   "execution_count": 11,
   "id": "6ff86221",
   "metadata": {},
   "outputs": [],
   "source": [
    "test_map = map.copy()"
   ]
  },
  {
   "cell_type": "code",
   "execution_count": 12,
   "id": "17df47ed",
   "metadata": {},
   "outputs": [],
   "source": [
    "insert_node(10, test_node, test_map)"
   ]
  },
  {
   "cell_type": "code",
   "execution_count": 13,
   "id": "ebf6b2ec",
   "metadata": {},
   "outputs": [
    {
     "name": "stdout",
     "output_type": "stream",
     "text": [
      "[{'id': 1, 'children': [{'id': 2, 'children': [{'id': 9, 'children': []}]}, {'id': 3, 'children': [{'id': 8, 'children': []}]}, {'id': 4, 'children': [{'id': 5, 'children': []}, {'id': 6, 'children': []}, {'id': 7, 'children': []}]}]}, {'id': 10, 'children': [{'id': 11, 'children': []}]}]\n"
     ]
    }
   ],
   "source": [
    "print(test_map)"
   ]
  },
  {
   "cell_type": "code",
   "execution_count": 47,
   "id": "00e626b7",
   "metadata": {},
   "outputs": [],
   "source": [
    "def get_path(id, tree, map=map, index=0, path=None):\n",
    "    while index in range(tree.index(id) + 1):\n",
    "        node_idx = get_list_index_for_node(tree[index], map)\n",
    "        if path:\n",
    "            path = f'{path}[{node_idx}][\"children\"]'\n",
    "        else:\n",
    "            path = f'[{node_idx}][\"children\"]'\n",
    "        index += 1\n",
    "        return get_path(id, tree, map=map[node_idx]['children'], index=index, path=path)\n",
    "\n",
    "    return path"
   ]
  },
  {
   "cell_type": "code",
   "execution_count": 48,
   "id": "d83a2507",
   "metadata": {},
   "outputs": [
    {
     "data": {
      "text/plain": [
       "'[0][\"children\"][1][\"children\"][0][\"children\"]'"
      ]
     },
     "execution_count": 48,
     "metadata": {},
     "output_type": "execute_result"
    }
   ],
   "source": [
    "get_path(8, [1, 3, 8], map)"
   ]
  },
  {
   "cell_type": "code",
   "execution_count": 52,
   "id": "0626b464",
   "metadata": {},
   "outputs": [
    {
     "name": "stdout",
     "output_type": "stream",
     "text": [
      "0\n",
      "1\n",
      "2\n"
     ]
    }
   ],
   "source": [
    "nlst = [1, 4, 8]\n",
    "\n",
    "for i in nlst:\n",
    "    print(nlst.index(i))"
   ]
  },
  {
   "cell_type": "code",
   "execution_count": null,
   "id": "7811d8d4",
   "metadata": {},
   "outputs": [],
   "source": []
  }
 ],
 "metadata": {
  "kernelspec": {
   "display_name": "Python 3 (ipykernel)",
   "language": "python",
   "name": "python3"
  },
  "language_info": {
   "codemirror_mode": {
    "name": "ipython",
    "version": 3
   },
   "file_extension": ".py",
   "mimetype": "text/x-python",
   "name": "python",
   "nbconvert_exporter": "python",
   "pygments_lexer": "ipython3",
   "version": "3.9.7"
  }
 },
 "nbformat": 4,
 "nbformat_minor": 5
}
