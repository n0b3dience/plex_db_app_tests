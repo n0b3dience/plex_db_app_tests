{
 "cells": [
  {
   "cell_type": "code",
   "execution_count": 8,
   "id": "96fb257f-83e1-4f97-98ca-cf228f3c42da",
   "metadata": {},
   "outputs": [],
   "source": [
    "from app.models import Comment"
   ]
  },
  {
   "cell_type": "code",
   "execution_count": 9,
   "id": "5c0557c1-bc28-498e-89d6-b4267f140e4b",
   "metadata": {},
   "outputs": [],
   "source": [
    "class PostCommentPathDetails:\n",
    "    \"\"\"\" An object containing comment path details for a post \"\"\"\n",
    "    def __init__(self, post_id):\n",
    "        self.id = post_id\n",
    "\n",
    "    @property\n",
    "    def full_comment_tree_list(self):\n",
    "        return self._get_comment_tree_list()\n",
    "\n",
    "    @property\n",
    "    def comment_tree_list(self):\n",
    "        return self._get_pruned_list(self.full_comment_tree_list)\n",
    "\n",
    "    @property\n",
    "    def levels(self):\n",
    "        return self._get_levels()\n",
    "\n",
    "    def _get_path(self, comment_id, path=None):\n",
    "        \"\"\" Gets a comment's tree path from its ID \"\"\"\n",
    "        comment = Comment.query.filter_by(id=comment_id).first()\n",
    "        if path is None:  # Create path list on first pass\n",
    "            path = list()\n",
    "        if comment.id not in path:  # Add initial comment_id to path\n",
    "            path.append(comment.id)\n",
    "        if comment.parent_id:  # Add parent_id to path\n",
    "            path.append(comment.parent_id)\n",
    "            return self._get_path(comment.parent_id, path=path)  # Loop\n",
    "        else:\n",
    "            path.reverse()  # Flip list so it begins at root\n",
    "            return path\n",
    "\n",
    "    def _get_comment_tree_list(self):\n",
    "        \"\"\" Returns a full list of comment tree paths \"\"\"\n",
    "        comments = Comment.query.filter_by(post_id=self.id).all()\n",
    "        comment_tree_list = list()\n",
    "        for comment in comments:\n",
    "            comment_path = self._get_path(comment.id)\n",
    "            comment_tree_list.append(comment_path)\n",
    "        return comment_tree_list\n",
    "\n",
    "    def _check_sublist(self, sublist, full_list):\n",
    "        \"\"\"\n",
    "        Checks if comment tree exists as a subset \n",
    "        of any other comment tree on the post\n",
    "        \"\"\"\n",
    "        check = False\n",
    "        for item in full_list:\n",
    "            if set(sublist).issubset(set(item)):\n",
    "                check = True\n",
    "                return check\n",
    "            else:\n",
    "                pass\n",
    "\n",
    "        return check\n",
    "\n",
    "    def _get_pruned_list(self, input_tree_list, pruned_list=None):\n",
    "        \"\"\" Removes redundant paths from list of comment tree paths \"\"\"\n",
    "        tree_list = input_tree_list.copy()  # Copy tree list to work with\n",
    "        if pruned_list == None:  # Create pruned path list on first pass\n",
    "            pruned_list = list()\n",
    "        if len(tree_list) > 0:\n",
    "            for tree in tree_list:\n",
    "                tree_list.remove(tree)\n",
    "                # Check if tree is part of a larger, unique tree in the list\n",
    "                if not self._check_sublist(tree, tree_list):\n",
    "                    pruned_list.append(tree)  # Append full unique tree\n",
    "                    return self._get_pruned_list(  # Loop\n",
    "                        tree_list, pruned_list=pruned_list)\n",
    "                else:\n",
    "                    return self._get_pruned_list(  # Loop\n",
    "                        tree_list, pruned_list=pruned_list)\n",
    "        else:  # Return when list has been exhausted\n",
    "            return pruned_list\n",
    "\n",
    "    def _get_levels(self):\n",
    "        \"\"\" Returns the level count of the post's comments \"\"\"\n",
    "        return len(max(self.comment_tree_list, key=len))\n",
    "\n",
    "    def get_depth_index(self, comment_id):\n",
    "        \"\"\" Returns the depth (level index) of the comment \"\"\"\n",
    "        return (len(self._get_path(comment_id)) - 1)\n",
    "\n",
    "    def get_level(self, n, parent_id=None, root_id=None):\n",
    "        \"\"\"\n",
    "        Gets all comments at level 'n'.\n",
    "\n",
    "        Adding the 'parent_id=<PARENT-COMMENT-ID>' argurment will get only\n",
    "            comments stemming from that parent at level 'n'.\n",
    "\n",
    "        Adding the 'root_id=<ROOT-COMMENT-ID>' argument will get only\n",
    "            comments at level 'n' from the root comment.\n",
    "        \"\"\"\n",
    "        level = list()\n",
    "        for i in self.comment_tree_list:\n",
    "            # Parent ID argument check\n",
    "            if parent_id and i[parent_id] \\\n",
    "                and len(i) >= (n + 1) \\\n",
    "                and i[n] not in level:  # Ignore duplicates\n",
    "                level.append(i[n])\n",
    "            # Root ID argument check\n",
    "            if root_id and i[0] == root_id and len(i) >= (n + 1) \\\n",
    "                and i[n] not in level:  # Ignore duplicates\n",
    "                level.append(i[n])\n",
    "            # No argument check\n",
    "            elif root_id is None and len(i) >= (n + 1) \\\n",
    "                and i[n] not in level:  # Ignore duplicates\n",
    "                level.append(i[n])\n",
    "            else:\n",
    "                pass\n",
    "        if len(level) >= 1:\n",
    "            return level\n",
    "        else:\n",
    "            return None\n",
    "    \n",
    "    def get_comment_trees(self, id):\n",
    "        # Get all comment trees for a comment\n",
    "        trees = []\n",
    "        for tree in self.comment_tree_list:\n",
    "            if id in tree:\n",
    "                trees.append(tree)\n",
    "        if len(trees) > 0:\n",
    "            return trees\n",
    "        else:\n",
    "            return None\n",
    "    \n",
    "    def get_children(self, comment_id, paths=False):\n",
    "        \"\"\" Returns a list of a comment's children or full child paths \"\"\"\n",
    "        child_depth = self.get_depth_index(comment_id) + 1\n",
    "        children = list()\n",
    "        for i in self.comment_tree_list:\n",
    "            if comment_id in i and not paths and child_depth < len(i):  # Child items only\n",
    "                if i[child_depth] not in children:  # Remove duplicates\n",
    "                    children.append(i[child_depth])\n",
    "                else:\n",
    "                    pass\n",
    "            elif comment_id in i and paths and child_depth < len(i):  # Full child paths\n",
    "                child_path = i[child_depth::]\n",
    "                children.append(child_path)\n",
    "            else:\n",
    "                pass\n",
    "        if len(children) > 0:\n",
    "            return children\n",
    "        else:\n",
    "            return None\n",
    "    \n",
    "    def get_parent(self, comment_id):\n",
    "        comment = Comment.query.filter_by(id=comment_id).first()\n",
    "        return comment.parent_id\n",
    "    \n",
    "    def _make_path(self, id, tree, map=map, index=0, path=None):\n",
    "        while index in range(tree.index(id)):\n",
    "            node_idx = self._get_list_index_for_node(tree[index], map)\n",
    "            if path:\n",
    "                path = f'{path}[{node_idx}][\"children\"]'\n",
    "            else:\n",
    "                path = f'[{node_idx}][\"children\"]'\n",
    "            index += 1\n",
    "            return self._make_path(id, tree, map=map[node_idx]['children'], index=index, path=path)\n",
    "\n",
    "        return path\n",
    "    \n",
    "    def _check_node_id(self, node, id):\n",
    "        \"\"\" Checks if a node has the specified ID \"\"\"\n",
    "        for key, val in node.items():\n",
    "            if val == id:\n",
    "                return True\n",
    "            else:\n",
    "                return False\n",
    "    \n",
    "    def _check_nodes_in_list(self, id, lst):\n",
    "        \"\"\" Check's if a node already exists in a list \"\"\"\n",
    "        for node_dict in lst:\n",
    "            if self._check_node_id(node_dict, id):\n",
    "                return True\n",
    "            else:\n",
    "                return False\n",
    "    \n",
    "    def _get_list_index_for_node(self, id, lst):\n",
    "        for node_dict in lst:\n",
    "            if self._check_node_id(node_dict, id):\n",
    "                return lst.index(node_dict)\n",
    "            else:\n",
    "                pass\n",
    "\n",
    "    def _append_list_in_dict(self, key_name, value, target):\n",
    "        \"\"\"\n",
    "        Appends the list of a specified key, 'key_name', \n",
    "        with 'value' in the 'target' dict\n",
    "        \"\"\"\n",
    "        for key, val in target.items():\n",
    "                if key == key_name:\n",
    "                    return val.append(value)\n",
    "    \n",
    "    def insert_node(self, parent_id, node, map):\n",
    "        for node_dict in map:\n",
    "            if self._check_node_id(node_dict, parent_id):\n",
    "                return self._append_list_in_dict('children', node, node_dict)\n",
    "        \n",
    "    def _make_child_nodes(self, id, child_node=None):\n",
    "        \"\"\"\n",
    "        Creates list containing child node dicts\n",
    "        Returns an empty list if reference node has no children\n",
    "        \"\"\"\n",
    "        level_index = self.get_depth_index(id)\n",
    "        if not child_node:\n",
    "            child_node = list()\n",
    "        if level_index == 0:\n",
    "            child_node.append(self._node(id))\n",
    "        children = self.get_children(id)  # Get child comment IDs\n",
    "        if children:\n",
    "            for child in children:\n",
    "                cnode_children = self.get_children(child)  # Get child comment's children\n",
    "                if cnode_children:\n",
    "                    for c in cnode_children:\n",
    "                        c_children = self._make_child_nodes(c, child_node=child_node)\n",
    "                        child_node.append(self._node(child, children=c_children))\n",
    "                else:\n",
    "                    child_node.append(self._node(child))\n",
    "            return child_node\n",
    "        else:\n",
    "            return []\n",
    "\n",
    "    def _make_nodes_in_tree(self, tree):\n",
    "        nodes = list()\n",
    "\n",
    "        for item in tree:\n",
    "            if tree.index(item) == 0:\n",
    "                node = self._node(item)\n",
    "                nodes.append(node)\n",
    "            else:\n",
    "                path = self._make_path(item, tree, nodes)\n",
    "                node_path = nodes + path\n",
    "                node = self._node(item)\n",
    "                parent = self.get_parent(item)\n",
    "                self.insert_node(parent, node, node_path)\n",
    "\n",
    "\n",
    "                    \n",
    "\n",
    "\n",
    "    def _node(self, id, children=[]):\n",
    "        node = {'id': id, 'children': children}\n",
    "        return node"
   ]
  },
  {
   "cell_type": "code",
   "execution_count": 10,
   "id": "3b4d8265-85c8-455b-97be-5e51a2d8c123",
   "metadata": {},
   "outputs": [],
   "source": [
    "pcpd = PostCommentPathDetails(1)"
   ]
  },
  {
   "cell_type": "markdown",
   "id": "4648988b",
   "metadata": {},
   "source": [
    "Return all comment IDs by given depth level index"
   ]
  },
  {
   "cell_type": "code",
   "execution_count": 11,
   "id": "27378ed4-b275-4cfb-b6ca-198f4e9c4895",
   "metadata": {},
   "outputs": [
    {
     "name": "stdout",
     "output_type": "stream",
     "text": [
      "LEVEL 0: [1, 10] | LEVEL 1: [4, 3, 2] | LEVEL 2: [5, 6, 7, 8, 9]\n"
     ]
    }
   ],
   "source": [
    "print(f'LEVEL 0: {pcpd.get_level(0)} | LEVEL 1: {pcpd.get_level(1)} | LEVEL 2: {pcpd.get_level(2)}')"
   ]
  },
  {
   "cell_type": "markdown",
   "id": "e14e49f6",
   "metadata": {},
   "source": [
    "Return comment's depth index"
   ]
  },
  {
   "cell_type": "code",
   "execution_count": 12,
   "id": "1ae0e767-aecb-41b7-9fac-d978168f407c",
   "metadata": {},
   "outputs": [
    {
     "data": {
      "text/plain": [
       "1"
      ]
     },
     "execution_count": 12,
     "metadata": {},
     "output_type": "execute_result"
    }
   ],
   "source": [
    "pcpd.get_depth_index(4)"
   ]
  },
  {
   "cell_type": "markdown",
   "id": "01b84a17",
   "metadata": {},
   "source": [
    "Get comment's direct children"
   ]
  },
  {
   "cell_type": "code",
   "execution_count": 13,
   "id": "230fb133-8573-40f5-b995-fdfa27bc48e5",
   "metadata": {},
   "outputs": [
    {
     "data": {
      "text/plain": [
       "[5, 6, 7]"
      ]
     },
     "execution_count": 13,
     "metadata": {},
     "output_type": "execute_result"
    }
   ],
   "source": [
    "pcpd.get_children(4)"
   ]
  },
  {
   "cell_type": "markdown",
   "id": "f079fd81",
   "metadata": {},
   "source": [
    "Get comment's childrens' paths"
   ]
  },
  {
   "cell_type": "code",
   "execution_count": 14,
   "id": "296a5340-0073-40e0-a4e8-5f76f2ff47b2",
   "metadata": {},
   "outputs": [
    {
     "data": {
      "text/plain": [
       "[[4, 5], [4, 6], [4, 7], [3, 8], [2, 9]]"
      ]
     },
     "execution_count": 14,
     "metadata": {},
     "output_type": "execute_result"
    }
   ],
   "source": [
    "pcpd.get_children(1, paths=True)"
   ]
  },
  {
   "cell_type": "markdown",
   "id": "154b9743",
   "metadata": {},
   "source": [
    "Return every full comment path"
   ]
  },
  {
   "cell_type": "code",
   "execution_count": 15,
   "id": "8ed4818c-2b6e-4c79-b08c-82966ffe9fc1",
   "metadata": {},
   "outputs": [
    {
     "data": {
      "text/plain": [
       "[[1, 4, 5], [1, 4, 6], [1, 4, 7], [1, 3, 8], [1, 2, 9], [10]]"
      ]
     },
     "execution_count": 15,
     "metadata": {},
     "output_type": "execute_result"
    }
   ],
   "source": [
    "pcpd.comment_tree_list"
   ]
  },
  {
   "cell_type": "markdown",
   "id": "d80a2f74",
   "metadata": {},
   "source": [
    "Create child nodes for given comment -- THIS NEEDS TO BE FIXED --"
   ]
  },
  {
   "cell_type": "code",
   "execution_count": 16,
   "id": "d2e92766-23aa-4220-b6dd-d37519213d11",
   "metadata": {},
   "outputs": [],
   "source": [
    "nodes = pcpd._make_child_nodes(1)"
   ]
  },
  {
   "cell_type": "markdown",
   "id": "486c9b5f",
   "metadata": {},
   "source": [
    "Need to add rule to omit duplicate child items and get rucursion working so it adds child comment's children"
   ]
  },
  {
   "cell_type": "code",
   "execution_count": 17,
   "id": "8a6db272-13cf-4eb9-b61f-b7da55e40dbe",
   "metadata": {},
   "outputs": [
    {
     "name": "stdout",
     "output_type": "stream",
     "text": [
      "[{'id': 1, 'children': []}, {'id': 4, 'children': []}, {'id': 4, 'children': []}, {'id': 4, 'children': []}, {'id': 3, 'children': []}, {'id': 2, 'children': []}]\n"
     ]
    }
   ],
   "source": [
    "print(nodes)"
   ]
  },
  {
   "cell_type": "code",
   "execution_count": 18,
   "id": "b37bd5f7-72c7-46df-8292-53b4de9d4485",
   "metadata": {},
   "outputs": [],
   "source": [
    "def make_map():\n",
    "    tree_list = pcpd.comment_tree_list\n",
    "    for tree in tree_list:\n",
    "        map = pcpd._make_nodes_in_tree(tree)\n",
    "    return tree"
   ]
  },
  {
   "cell_type": "code",
   "execution_count": 19,
   "id": "56f27f8c",
   "metadata": {},
   "outputs": [
    {
     "ename": "TypeError",
     "evalue": "can only concatenate list (not \"str\") to list",
     "output_type": "error",
     "traceback": [
      "\u001b[1;31m---------------------------------------------------------------------------\u001b[0m",
      "\u001b[1;31mTypeError\u001b[0m                                 Traceback (most recent call last)",
      "\u001b[1;32m~\\AppData\\Local\\Temp/ipykernel_16048/4226460355.py\u001b[0m in \u001b[0;36m<module>\u001b[1;34m\u001b[0m\n\u001b[1;32m----> 1\u001b[1;33m \u001b[0mmade_map\u001b[0m \u001b[1;33m=\u001b[0m \u001b[0mmake_map\u001b[0m\u001b[1;33m(\u001b[0m\u001b[1;33m)\u001b[0m\u001b[1;33m\u001b[0m\u001b[1;33m\u001b[0m\u001b[0m\n\u001b[0m",
      "\u001b[1;32m~\\AppData\\Local\\Temp/ipykernel_16048/2670940830.py\u001b[0m in \u001b[0;36mmake_map\u001b[1;34m()\u001b[0m\n\u001b[0;32m      2\u001b[0m     \u001b[0mtree_list\u001b[0m \u001b[1;33m=\u001b[0m \u001b[0mpcpd\u001b[0m\u001b[1;33m.\u001b[0m\u001b[0mcomment_tree_list\u001b[0m\u001b[1;33m\u001b[0m\u001b[1;33m\u001b[0m\u001b[0m\n\u001b[0;32m      3\u001b[0m     \u001b[1;32mfor\u001b[0m \u001b[0mtree\u001b[0m \u001b[1;32min\u001b[0m \u001b[0mtree_list\u001b[0m\u001b[1;33m:\u001b[0m\u001b[1;33m\u001b[0m\u001b[1;33m\u001b[0m\u001b[0m\n\u001b[1;32m----> 4\u001b[1;33m         \u001b[0mmap\u001b[0m \u001b[1;33m=\u001b[0m \u001b[0mpcpd\u001b[0m\u001b[1;33m.\u001b[0m\u001b[0m_make_nodes_in_tree\u001b[0m\u001b[1;33m(\u001b[0m\u001b[0mtree\u001b[0m\u001b[1;33m)\u001b[0m\u001b[1;33m\u001b[0m\u001b[1;33m\u001b[0m\u001b[0m\n\u001b[0m\u001b[0;32m      5\u001b[0m     \u001b[1;32mreturn\u001b[0m \u001b[0mtree\u001b[0m\u001b[1;33m\u001b[0m\u001b[1;33m\u001b[0m\u001b[0m\n",
      "\u001b[1;32m~\\AppData\\Local\\Temp/ipykernel_16048/1076780843.py\u001b[0m in \u001b[0;36m_make_nodes_in_tree\u001b[1;34m(self, tree)\u001b[0m\n\u001b[0;32m    230\u001b[0m             \u001b[1;32melse\u001b[0m\u001b[1;33m:\u001b[0m\u001b[1;33m\u001b[0m\u001b[1;33m\u001b[0m\u001b[0m\n\u001b[0;32m    231\u001b[0m                 \u001b[0mpath\u001b[0m \u001b[1;33m=\u001b[0m \u001b[0mself\u001b[0m\u001b[1;33m.\u001b[0m\u001b[0m_make_path\u001b[0m\u001b[1;33m(\u001b[0m\u001b[0mitem\u001b[0m\u001b[1;33m,\u001b[0m \u001b[0mtree\u001b[0m\u001b[1;33m,\u001b[0m \u001b[0mnodes\u001b[0m\u001b[1;33m)\u001b[0m\u001b[1;33m\u001b[0m\u001b[1;33m\u001b[0m\u001b[0m\n\u001b[1;32m--> 232\u001b[1;33m                 \u001b[0mnode_path\u001b[0m \u001b[1;33m=\u001b[0m \u001b[0mnodes\u001b[0m \u001b[1;33m+\u001b[0m \u001b[0mpath\u001b[0m\u001b[1;33m\u001b[0m\u001b[1;33m\u001b[0m\u001b[0m\n\u001b[0m\u001b[0;32m    233\u001b[0m                 \u001b[0mnode\u001b[0m \u001b[1;33m=\u001b[0m \u001b[0mself\u001b[0m\u001b[1;33m.\u001b[0m\u001b[0m_node\u001b[0m\u001b[1;33m(\u001b[0m\u001b[0mitem\u001b[0m\u001b[1;33m)\u001b[0m\u001b[1;33m\u001b[0m\u001b[1;33m\u001b[0m\u001b[0m\n\u001b[0;32m    234\u001b[0m                 \u001b[0mparent\u001b[0m \u001b[1;33m=\u001b[0m \u001b[0mself\u001b[0m\u001b[1;33m.\u001b[0m\u001b[0mget_parent\u001b[0m\u001b[1;33m(\u001b[0m\u001b[0mitem\u001b[0m\u001b[1;33m)\u001b[0m\u001b[1;33m\u001b[0m\u001b[1;33m\u001b[0m\u001b[0m\n",
      "\u001b[1;31mTypeError\u001b[0m: can only concatenate list (not \"str\") to list"
     ]
    }
   ],
   "source": [
    "made_map = make_map()"
   ]
  },
  {
   "cell_type": "code",
   "execution_count": null,
   "id": "70ec7516",
   "metadata": {},
   "outputs": [],
   "source": []
  }
 ],
 "metadata": {
  "kernelspec": {
   "display_name": "Python 3 (ipykernel)",
   "language": "python",
   "name": "python3"
  },
  "language_info": {
   "codemirror_mode": {
    "name": "ipython",
    "version": 3
   },
   "file_extension": ".py",
   "mimetype": "text/x-python",
   "name": "python",
   "nbconvert_exporter": "python",
   "pygments_lexer": "ipython3",
   "version": "3.9.7"
  }
 },
 "nbformat": 4,
 "nbformat_minor": 5
}
