{
 "cells": [
  {
   "cell_type": "code",
   "execution_count": 1,
   "id": "96fb257f-83e1-4f97-98ca-cf228f3c42da",
   "metadata": {},
   "outputs": [],
   "source": [
    "path = [1, 2, 4, 6, 8]"
   ]
  },
  {
   "cell_type": "code",
   "execution_count": 3,
   "id": "5fb8bf0f-f050-4380-8a8e-b08a1bd1c0ae",
   "metadata": {},
   "outputs": [
    {
     "name": "stdout",
     "output_type": "stream",
     "text": [
      "[4, 6, 8]\n"
     ]
    }
   ],
   "source": [
    "print(path[-3::])"
   ]
  },
  {
   "cell_type": "code",
   "execution_count": 11,
   "id": "295af229-a905-4c87-b27f-76ab396bb8f3",
   "metadata": {},
   "outputs": [
    {
     "name": "stdout",
     "output_type": "stream",
     "text": [
      "1\n",
      "2\n"
     ]
    }
   ],
   "source": [
    "i = 0\n",
    "while i in range(2):\n",
    "    print(path[i])\n",
    "    i += 1"
   ]
  },
  {
   "cell_type": "code",
   "execution_count": null,
   "id": "07e497c3-84e7-4a14-ab67-9b2044403074",
   "metadata": {},
   "outputs": [],
   "source": []
  }
 ],
 "metadata": {
  "kernelspec": {
   "display_name": "Python 3 (ipykernel)",
   "language": "python",
   "name": "python3"
  },
  "language_info": {
   "codemirror_mode": {
    "name": "ipython",
    "version": 3
   },
   "file_extension": ".py",
   "mimetype": "text/x-python",
   "name": "python",
   "nbconvert_exporter": "python",
   "pygments_lexer": "ipython3",
   "version": "3.9.7"
  }
 },
 "nbformat": 4,
 "nbformat_minor": 5
}
