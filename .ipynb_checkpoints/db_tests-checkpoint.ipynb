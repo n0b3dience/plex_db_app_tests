{
 "cells": [
  {
   "cell_type": "code",
   "execution_count": 1,
   "id": "5708e3f1-cfd0-43d4-89bc-c65b82de80db",
   "metadata": {},
   "outputs": [],
   "source": [
    "import sqlite3"
   ]
  },
  {
   "cell_type": "code",
   "execution_count": 2,
   "id": "a6e97b36-e106-473b-bdd9-ed7008644878",
   "metadata": {},
   "outputs": [],
   "source": [
    "conn = sqlite3.connect('database.db')"
   ]
  },
  {
   "cell_type": "code",
   "execution_count": 4,
   "id": "275fa7f6-9058-498f-a0e6-b080d25003db",
   "metadata": {},
   "outputs": [],
   "source": [
    "cursor = conn.cursor()"
   ]
  },
  {
   "cell_type": "code",
   "execution_count": 5,
   "id": "a79d5ecd-b589-4cf1-b3f8-181d93642225",
   "metadata": {},
   "outputs": [
    {
     "data": {
      "text/plain": [
       "<sqlite3.Cursor at 0x120c05416c0>"
      ]
     },
     "execution_count": 5,
     "metadata": {},
     "output_type": "execute_result"
    }
   ],
   "source": [
    "cursor.execute('''SELECT parent_id, id, post_id FROM parent_child''')"
   ]
  },
  {
   "cell_type": "code",
   "execution_count": 6,
   "id": "7ea630e5-eb9c-4bb9-b1ad-154c28134355",
   "metadata": {},
   "outputs": [],
   "source": [
    "pc_tbl = cursor.fetchall()"
   ]
  },
  {
   "cell_type": "code",
   "execution_count": 10,
   "id": "b7fbb82e-d53a-41f5-a7d3-e3f921a4ca65",
   "metadata": {},
   "outputs": [
    {
     "name": "stdout",
     "output_type": "stream",
     "text": [
      " parent_id |    id    |   post_id\n",
      "-------------------------------------\n",
      "     1     |    2     |     1\n",
      "     1     |    3     |     1\n",
      "     1     |    4     |     1\n",
      "     4     |    5     |     1\n",
      "     4     |    6     |     1\n",
      "     4     |    7     |     1\n",
      "     3     |    8     |     1\n",
      "     2     |    9     |     1\n"
     ]
    }
   ],
   "source": [
    "print(' parent_id |    id    |   post_id')\n",
    "print('-------------------------------------')\n",
    "for row in pc_tbl:\n",
    "    print(f'     {row[0]}     |    {row[1]}     |     {row[2]}')"
   ]
  },
  {
   "cell_type": "code",
   "execution_count": 11,
   "id": "c6d6f99f-336d-4ffe-98ce-cfcef7ab33da",
   "metadata": {},
   "outputs": [
    {
     "data": {
      "text/plain": [
       "<sqlite3.Cursor at 0x120c05416c0>"
      ]
     },
     "execution_count": 11,
     "metadata": {},
     "output_type": "execute_result"
    }
   ],
   "source": [
    "cursor.execute('''SELECT id, parent_id, text, post_id FROM comment''')"
   ]
  },
  {
   "cell_type": "code",
   "execution_count": 12,
   "id": "55d0668b-9f93-4ba1-9a21-219ac5283b99",
   "metadata": {},
   "outputs": [],
   "source": [
    "comments = cursor.fetchall()"
   ]
  },
  {
   "cell_type": "code",
   "execution_count": 14,
   "id": "cc007581-a470-419d-928d-3a4de03845e2",
   "metadata": {},
   "outputs": [
    {
     "name": "stdout",
     "output_type": "stream",
     "text": [
      "(1, None, 'lets', 1)\n"
     ]
    }
   ],
   "source": [
    "print(comments[0])"
   ]
  },
  {
   "cell_type": "code",
   "execution_count": 19,
   "id": "c14678e6-422f-4b03-98aa-31dd77930ed1",
   "metadata": {},
   "outputs": [
    {
     "name": "stdout",
     "output_type": "stream",
     "text": [
      "[1, 2, 3, 4, 5, 6, 7, 8, 9, 10]\n",
      "[None, 1, 1, 1, 4, 4, 4, 3, 2, None]\n"
     ]
    }
   ],
   "source": [
    "comment_ids = []\n",
    "for i in comments:\n",
    "    comment_ids.append(i[0])\n",
    "comment_parent_ids = []\n",
    "for i in comments:\n",
    "    comment_parent_ids.append(i[1])\n",
    "print(comment_ids)\n",
    "print(comment_parent_ids)"
   ]
  },
  {
   "cell_type": "code",
   "execution_count": null,
   "id": "a3e3cbe4-4881-4271-82fb-779627f1db36",
   "metadata": {},
   "outputs": [],
   "source": [
    "def get_path(comment_id):\n",
    "    "
   ]
  }
 ],
 "metadata": {
  "kernelspec": {
   "display_name": "Python 3 (ipykernel)",
   "language": "python",
   "name": "python3"
  },
  "language_info": {
   "codemirror_mode": {
    "name": "ipython",
    "version": 3
   },
   "file_extension": ".py",
   "mimetype": "text/x-python",
   "name": "python",
   "nbconvert_exporter": "python",
   "pygments_lexer": "ipython3",
   "version": "3.9.7"
  }
 },
 "nbformat": 4,
 "nbformat_minor": 5
}
