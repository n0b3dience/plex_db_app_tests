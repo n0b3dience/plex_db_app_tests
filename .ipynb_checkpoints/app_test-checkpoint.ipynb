{
 "cells": [
  {
   "cell_type": "code",
   "execution_count": 1,
   "id": "13e8ef0c-49cd-4680-89cc-42b7ed1d8e2d",
   "metadata": {
    "tags": []
   },
   "outputs": [],
   "source": [
    "from app import db\n",
    "from app.models import User, Post, Comment, PostComment, ParentChild"
   ]
  },
  {
   "cell_type": "code",
   "execution_count": 2,
   "id": "dfbbf0cf-7347-4fcb-ae0f-2f5ad7a6100d",
   "metadata": {},
   "outputs": [],
   "source": [
    "def get_path(comment_id, path=None):\n",
    "    ''' Gets the comment tree path '''\n",
    "    comment = Comment.query.filter_by(id=comment_id).first()  # Create comment object\n",
    "    if path is None:  # Create path list on first pass\n",
    "        path = []\n",
    "        \n",
    "    if comment.id not in path:  # Start the path with self ID\n",
    "        path.append(comment.id)\n",
    "        \n",
    "    if comment.parent_id:  # Append parent ID to the path\n",
    "        path.append(comment.parent_id)\n",
    "        return get_path(comment.parent_id, path=path)  # Restart loop with updated path\n",
    "    \n",
    "    else:\n",
    "        path.reverse()\n",
    "        return path"
   ]
  },
  {
   "cell_type": "code",
   "execution_count": 3,
   "id": "079605d0-6911-458b-8107-043ed7bcfb48",
   "metadata": {},
   "outputs": [],
   "source": [
    "def get_comment_tree_list(post_id):\n",
    "    ''' Returns a list of comment tree paths '''\n",
    "    comments = Comment.query.filter_by(post_id=post_id).all()\n",
    "    comment_tree_list = list()\n",
    "    for comment in comments:\n",
    "        comment_path = get_path(comment.id)\n",
    "        comment_tree_list.append(comment_path)\n",
    "    return comment_tree_list"
   ]
  },
  {
   "cell_type": "code",
   "execution_count": 4,
   "id": "0fd65dc7-3502-4dc9-aa14-e2d3c62fcd73",
   "metadata": {},
   "outputs": [],
   "source": [
    "def check_sublist(sublist, full_list):\n",
    "    check = False\n",
    "\n",
    "    for item in full_list:\n",
    "        if set(sublist).issubset(set(item)):\n",
    "            check = True\n",
    "            return check\n",
    "        else:\n",
    "            pass\n",
    "\n",
    "    return check\n",
    "\n",
    "def get_pruned_list(self, input_tree_list, pruned_list=None):\n",
    "        \"\"\" Removes redundant paths from list of comment tree paths \"\"\"\n",
    "        tree_list = input_tree_list\n",
    "        if pruned_list == None:\n",
    "            pruned_list = list()\n",
    "        if len(tree_list) > 0:\n",
    "            for tree in tree_list:\n",
    "                tree_list.remove(tree)\n",
    "                if not self._check_sublist(tree, tree_list):\n",
    "                    pruned_list.append(tree)\n",
    "                    return self._get_pruned_list(tree_list, pruned_list=pruned_list)\n",
    "                else:\n",
    "                    return self._get_pruned_list(tree_list, pruned_list=pruned_list)\n",
    "        else:\n",
    "            return pruned_list"
   ]
  },
  {
   "cell_type": "code",
   "execution_count": 5,
   "id": "5c105a2c-bc1a-4551-bec2-ac1feabd7486",
   "metadata": {},
   "outputs": [
    {
     "ename": "NameError",
     "evalue": "name 'get_pruned_list' is not defined",
     "output_type": "error",
     "traceback": [
      "\u001b[1;31m---------------------------------------------------------------------------\u001b[0m",
      "\u001b[1;31mNameError\u001b[0m                                 Traceback (most recent call last)",
      "\u001b[1;32m~\\AppData\\Local\\Temp/ipykernel_17432/556569315.py\u001b[0m in \u001b[0;36m<module>\u001b[1;34m\u001b[0m\n\u001b[0;32m      1\u001b[0m \u001b[0mctl\u001b[0m \u001b[1;33m=\u001b[0m \u001b[0mget_comment_tree_list\u001b[0m\u001b[1;33m(\u001b[0m\u001b[1;36m1\u001b[0m\u001b[1;33m)\u001b[0m\u001b[1;33m\u001b[0m\u001b[1;33m\u001b[0m\u001b[0m\n\u001b[1;32m----> 2\u001b[1;33m \u001b[0mpct\u001b[0m \u001b[1;33m=\u001b[0m \u001b[0mget_pruned_list\u001b[0m\u001b[1;33m(\u001b[0m\u001b[0mctl\u001b[0m\u001b[1;33m)\u001b[0m\u001b[1;33m\u001b[0m\u001b[1;33m\u001b[0m\u001b[0m\n\u001b[0m\u001b[0;32m      3\u001b[0m \u001b[0mprint\u001b[0m\u001b[1;33m(\u001b[0m\u001b[0mpct\u001b[0m\u001b[1;33m)\u001b[0m\u001b[1;33m\u001b[0m\u001b[1;33m\u001b[0m\u001b[0m\n",
      "\u001b[1;31mNameError\u001b[0m: name 'get_pruned_list' is not defined"
     ]
    }
   ],
   "source": [
    "ctl = get_comment_tree_list(1)\n",
    "pct = get_pruned_list(ctl)\n",
    "print(pct)"
   ]
  },
  {
   "cell_type": "code",
   "execution_count": null,
   "id": "c6604c77-feeb-4c98-871e-09e83447a529",
   "metadata": {},
   "outputs": [],
   "source": []
  }
 ],
 "metadata": {
  "kernelspec": {
   "display_name": "Python 3 (ipykernel)",
   "language": "python",
   "name": "python3"
  },
  "language_info": {
   "codemirror_mode": {
    "name": "ipython",
    "version": 3
   },
   "file_extension": ".py",
   "mimetype": "text/x-python",
   "name": "python",
   "nbconvert_exporter": "python",
   "pygments_lexer": "ipython3",
   "version": "3.9.7"
  }
 },
 "nbformat": 4,
 "nbformat_minor": 5
}
